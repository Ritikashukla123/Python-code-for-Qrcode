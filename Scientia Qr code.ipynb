{
 "cells": [
  {
   "cell_type": "code",
   "execution_count": 1,
   "id": "1d9f9d72",
   "metadata": {},
   "outputs": [],
   "source": [
    "# Importing library\n",
    "import qrcode\n",
    "\n",
    "# Data to be encoded\n",
    "data = 'https://www.facebook.com/scientiainstitute35/'\n",
    "\n",
    "# Encoding data using make() function\n",
    "img = qrcode.make(data)\n",
    "\n",
    "# Saving as an image file\n",
    "img.save('Scientia.png')"
   ]
  },
  {
   "cell_type": "markdown",
   "id": "d8a8c15e",
   "metadata": {},
   "source": [
    "# Generating QR code using python"
   ]
  }
 ],
 "metadata": {
  "kernelspec": {
   "display_name": "Python 3 (ipykernel)",
   "language": "python",
   "name": "python3"
  },
  "language_info": {
   "codemirror_mode": {
    "name": "ipython",
    "version": 3
   },
   "file_extension": ".py",
   "mimetype": "text/x-python",
   "name": "python",
   "nbconvert_exporter": "python",
   "pygments_lexer": "ipython3",
   "version": "3.11.2"
  }
 },
 "nbformat": 4,
 "nbformat_minor": 5
}
